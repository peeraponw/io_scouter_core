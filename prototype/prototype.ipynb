{
 "cells": [
  {
   "cell_type": "code",
   "execution_count": 1,
   "metadata": {},
   "outputs": [
    {
     "ename": "ModuleNotFoundError",
     "evalue": "No module named 'pandas'",
     "output_type": "error",
     "traceback": [
      "\u001b[1;31m---------------------------------------------------------------------------\u001b[0m",
      "\u001b[1;31mModuleNotFoundError\u001b[0m                       Traceback (most recent call last)",
      "\u001b[1;32m<ipython-input-1-b800179eb936>\u001b[0m in \u001b[0;36m<module>\u001b[1;34m\u001b[0m\n\u001b[1;32m----> 1\u001b[1;33m \u001b[1;32mimport\u001b[0m \u001b[0mpandas\u001b[0m \u001b[1;32mas\u001b[0m \u001b[0mpd\u001b[0m\u001b[1;33m\u001b[0m\u001b[1;33m\u001b[0m\u001b[0m\n\u001b[0m\u001b[0;32m      2\u001b[0m \u001b[1;32mimport\u001b[0m \u001b[0mnumpy\u001b[0m \u001b[1;32mas\u001b[0m \u001b[0mnp\u001b[0m\u001b[1;33m\u001b[0m\u001b[1;33m\u001b[0m\u001b[0m\n\u001b[0;32m      3\u001b[0m \u001b[1;32mimport\u001b[0m \u001b[0mmatplotlib\u001b[0m\u001b[1;33m.\u001b[0m\u001b[0mpyplot\u001b[0m \u001b[1;32mas\u001b[0m \u001b[0mplt\u001b[0m\u001b[1;33m\u001b[0m\u001b[1;33m\u001b[0m\u001b[0m\n\u001b[0;32m      4\u001b[0m \u001b[1;32mimport\u001b[0m \u001b[0mre\u001b[0m\u001b[1;33m\u001b[0m\u001b[1;33m\u001b[0m\u001b[0m\n\u001b[0;32m      5\u001b[0m \u001b[1;32mimport\u001b[0m \u001b[0memoji\u001b[0m\u001b[1;33m\u001b[0m\u001b[1;33m\u001b[0m\u001b[0m\n",
      "\u001b[1;31mModuleNotFoundError\u001b[0m: No module named 'pandas'"
     ]
    }
   ],
   "source": [
    "import pandas as pd\n",
    "import numpy as np\n",
    "import matplotlib.pyplot as plt\n",
    "import re\n",
    "# import emoji "
   ]
  },
  {
   "cell_type": "code",
   "execution_count": 2,
   "metadata": {},
   "outputs": [
    {
     "data": {
      "text/html": [
       "<div>\n",
       "<style scoped>\n",
       "    .dataframe tbody tr th:only-of-type {\n",
       "        vertical-align: middle;\n",
       "    }\n",
       "\n",
       "    .dataframe tbody tr th {\n",
       "        vertical-align: top;\n",
       "    }\n",
       "\n",
       "    .dataframe thead th {\n",
       "        text-align: right;\n",
       "    }\n",
       "</style>\n",
       "<table border=\"1\" class=\"dataframe\">\n",
       "  <thead>\n",
       "    <tr style=\"text-align: right;\">\n",
       "      <th></th>\n",
       "      <th>id</th>\n",
       "      <th>id_str</th>\n",
       "      <th>tweet</th>\n",
       "      <th>label (0:คนปกติ, 1:io)</th>\n",
       "      <th>language</th>\n",
       "      <th>conversation_id</th>\n",
       "      <th>created_at</th>\n",
       "      <th>date</th>\n",
       "      <th>time</th>\n",
       "      <th>timezone</th>\n",
       "      <th>...</th>\n",
       "      <th>quote_url</th>\n",
       "      <th>video</th>\n",
       "      <th>geo</th>\n",
       "      <th>near</th>\n",
       "      <th>source</th>\n",
       "      <th>time_update</th>\n",
       "      <th>translate</th>\n",
       "      <th>trans_src</th>\n",
       "      <th>trans_dest</th>\n",
       "      <th>keyword</th>\n",
       "    </tr>\n",
       "  </thead>\n",
       "  <tbody>\n",
       "    <tr>\n",
       "      <th>0</th>\n",
       "      <td>1.162571e+18</td>\n",
       "      <td>1.162571e+18</td>\n",
       "      <td>@zeeill บ้านเมืองเดือดร้อนวุ่นวายขนาดนี้ ไม่ให...</td>\n",
       "      <td>1</td>\n",
       "      <td>th</td>\n",
       "      <td>1.162341e+18</td>\n",
       "      <td>2019-08-17 10:45:59 SE Asia Standard Time</td>\n",
       "      <td>2019-08-17</td>\n",
       "      <td>10:45:59</td>\n",
       "      <td>700</td>\n",
       "      <td>...</td>\n",
       "      <td>NaN</td>\n",
       "      <td>0</td>\n",
       "      <td>NaN</td>\n",
       "      <td>NaN</td>\n",
       "      <td>NaN</td>\n",
       "      <td>1603127298878</td>\n",
       "      <td>NaN</td>\n",
       "      <td>NaN</td>\n",
       "      <td>NaN</td>\n",
       "      <td>บ้านเมืองเดือดร้อน</td>\n",
       "    </tr>\n",
       "    <tr>\n",
       "      <th>1</th>\n",
       "      <td>1.251352e+18</td>\n",
       "      <td>1.251352e+18</td>\n",
       "      <td>@nomi_nee เห็นด้วยคะ ดีมาก เวลาบ้านเมืองเดือดร...</td>\n",
       "      <td>1</td>\n",
       "      <td>th</td>\n",
       "      <td>1.251134e+18</td>\n",
       "      <td>2020-04-18 10:27:51 SE Asia Standard Time</td>\n",
       "      <td>2020-04-18</td>\n",
       "      <td>10:27:51</td>\n",
       "      <td>700</td>\n",
       "      <td>...</td>\n",
       "      <td>NaN</td>\n",
       "      <td>0</td>\n",
       "      <td>NaN</td>\n",
       "      <td>NaN</td>\n",
       "      <td>NaN</td>\n",
       "      <td>1603127276312</td>\n",
       "      <td>NaN</td>\n",
       "      <td>NaN</td>\n",
       "      <td>NaN</td>\n",
       "      <td>บ้านเมืองเดือดร้อน</td>\n",
       "    </tr>\n",
       "    <tr>\n",
       "      <th>2</th>\n",
       "      <td>1.045623e+18</td>\n",
       "      <td>1.045623e+18</td>\n",
       "      <td>@DeFirenze พวกจาบจ้วงสถาบันก็เช่นกัน</td>\n",
       "      <td>1</td>\n",
       "      <td>th</td>\n",
       "      <td>1.045621e+18</td>\n",
       "      <td>2018-09-28 17:33:59 SE Asia Standard Time</td>\n",
       "      <td>2018-09-28</td>\n",
       "      <td>17:33:59</td>\n",
       "      <td>700</td>\n",
       "      <td>...</td>\n",
       "      <td>NaN</td>\n",
       "      <td>0</td>\n",
       "      <td>NaN</td>\n",
       "      <td>NaN</td>\n",
       "      <td>NaN</td>\n",
       "      <td>1603128157824</td>\n",
       "      <td>NaN</td>\n",
       "      <td>NaN</td>\n",
       "      <td>NaN</td>\n",
       "      <td>จาบจ้วงสถาบัน</td>\n",
       "    </tr>\n",
       "    <tr>\n",
       "      <th>3</th>\n",
       "      <td>1.293108e+18</td>\n",
       "      <td>1.293108e+18</td>\n",
       "      <td>“สุดารัตน์” ไม่เห็นด้วยจาบจ้วงสถาบัน  https://...</td>\n",
       "      <td>0</td>\n",
       "      <td>th</td>\n",
       "      <td>1.293108e+18</td>\n",
       "      <td>2020-08-11 15:50:28 SE Asia Standard Time</td>\n",
       "      <td>2020-08-11</td>\n",
       "      <td>15:50:28</td>\n",
       "      <td>700</td>\n",
       "      <td>...</td>\n",
       "      <td>NaN</td>\n",
       "      <td>0</td>\n",
       "      <td>NaN</td>\n",
       "      <td>NaN</td>\n",
       "      <td>NaN</td>\n",
       "      <td>1603129947131</td>\n",
       "      <td>NaN</td>\n",
       "      <td>NaN</td>\n",
       "      <td>NaN</td>\n",
       "      <td>จาบจ้วงสถาบัน</td>\n",
       "    </tr>\n",
       "    <tr>\n",
       "      <th>4</th>\n",
       "      <td>1.293148e+18</td>\n",
       "      <td>1.293148e+18</td>\n",
       "      <td>@Sulovebossss ป้าหน่อยออกมาประกาศเพื่อไทยไม่สน...</td>\n",
       "      <td>1</td>\n",
       "      <td>th</td>\n",
       "      <td>1.293144e+18</td>\n",
       "      <td>2020-08-11 18:30:47 SE Asia Standard Time</td>\n",
       "      <td>2020-08-11</td>\n",
       "      <td>18:30:47</td>\n",
       "      <td>700</td>\n",
       "      <td>...</td>\n",
       "      <td>NaN</td>\n",
       "      <td>0</td>\n",
       "      <td>NaN</td>\n",
       "      <td>NaN</td>\n",
       "      <td>NaN</td>\n",
       "      <td>1603127380825</td>\n",
       "      <td>NaN</td>\n",
       "      <td>NaN</td>\n",
       "      <td>NaN</td>\n",
       "      <td>จาบจ้วงสถาบัน</td>\n",
       "    </tr>\n",
       "  </tbody>\n",
       "</table>\n",
       "<p>5 rows × 35 columns</p>\n",
       "</div>"
      ],
      "text/plain": [
       "             id        id_str  \\\n",
       "0  1.162571e+18  1.162571e+18   \n",
       "1  1.251352e+18  1.251352e+18   \n",
       "2  1.045623e+18  1.045623e+18   \n",
       "3  1.293108e+18  1.293108e+18   \n",
       "4  1.293148e+18  1.293148e+18   \n",
       "\n",
       "                                               tweet  label (0:คนปกติ, 1:io)  \\\n",
       "0  @zeeill บ้านเมืองเดือดร้อนวุ่นวายขนาดนี้ ไม่ให...                       1   \n",
       "1  @nomi_nee เห็นด้วยคะ ดีมาก เวลาบ้านเมืองเดือดร...                       1   \n",
       "2               @DeFirenze พวกจาบจ้วงสถาบันก็เช่นกัน                       1   \n",
       "3  “สุดารัตน์” ไม่เห็นด้วยจาบจ้วงสถาบัน  https://...                       0   \n",
       "4  @Sulovebossss ป้าหน่อยออกมาประกาศเพื่อไทยไม่สน...                       1   \n",
       "\n",
       "  language  conversation_id                                 created_at  \\\n",
       "0       th     1.162341e+18  2019-08-17 10:45:59 SE Asia Standard Time   \n",
       "1       th     1.251134e+18  2020-04-18 10:27:51 SE Asia Standard Time   \n",
       "2       th     1.045621e+18  2018-09-28 17:33:59 SE Asia Standard Time   \n",
       "3       th     1.293108e+18  2020-08-11 15:50:28 SE Asia Standard Time   \n",
       "4       th     1.293144e+18  2020-08-11 18:30:47 SE Asia Standard Time   \n",
       "\n",
       "         date      time  timezone  ...  quote_url  video  geo  near  source  \\\n",
       "0  2019-08-17  10:45:59       700  ...        NaN      0  NaN   NaN     NaN   \n",
       "1  2020-04-18  10:27:51       700  ...        NaN      0  NaN   NaN     NaN   \n",
       "2  2018-09-28  17:33:59       700  ...        NaN      0  NaN   NaN     NaN   \n",
       "3  2020-08-11  15:50:28       700  ...        NaN      0  NaN   NaN     NaN   \n",
       "4  2020-08-11  18:30:47       700  ...        NaN      0  NaN   NaN     NaN   \n",
       "\n",
       "     time_update translate trans_src trans_dest             keyword  \n",
       "0  1603127298878       NaN       NaN        NaN  บ้านเมืองเดือดร้อน  \n",
       "1  1603127276312       NaN       NaN        NaN  บ้านเมืองเดือดร้อน  \n",
       "2  1603128157824       NaN       NaN        NaN       จาบจ้วงสถาบัน  \n",
       "3  1603129947131       NaN       NaN        NaN       จาบจ้วงสถาบัน  \n",
       "4  1603127380825       NaN       NaN        NaN       จาบจ้วงสถาบัน  \n",
       "\n",
       "[5 rows x 35 columns]"
      ]
     },
     "execution_count": 2,
     "metadata": {},
     "output_type": "execute_result"
    }
   ],
   "source": [
    "df = pd.read_csv(\"../data/twitter_quotes.csv\")\n",
    "df.head()"
   ]
  },
  {
   "cell_type": "code",
   "execution_count": 3,
   "metadata": {},
   "outputs": [],
   "source": [
    "tweet = df['tweet']\n",
    "label = df['label (0:คนปกติ, 1:io)']"
   ]
  },
  {
   "cell_type": "markdown",
   "metadata": {},
   "source": [
    "# Preprocessing"
   ]
  },
  {
   "cell_type": "code",
   "execution_count": 4,
   "metadata": {},
   "outputs": [],
   "source": [
    "def remove_mention(text):\n",
    "    output = re.sub(\"@[A-Za-zก-๏0-9_]+\",\"\", text)\n",
    "    return output\n",
    "def remove_link(text):\n",
    "    output = re.sub(r'https?:\\/\\/\\S*', \"\", text, flags=re.MULTILINE)\n",
    "    return output\n",
    "def remove_punctuation(text):\n",
    "    output = re.sub('[^a-z0-9ก-๏] ', \"\", text)\n",
    "    return output\n",
    "def remove_space(text):\n",
    "    text = text.strip()\n",
    "    output = re.sub(\"[\\s+]\", '', text)\n",
    "    return output\n",
    "def preprocess(text):\n",
    "    text = remove_mention(text)\n",
    "    text = remove_link(text)\n",
    "    text = remove_punctuation(text)\n",
    "#     text = remove_space(text)\n",
    "    return text\n",
    "\n",
    "# idx = 34\n",
    "# print(tweet[idx])\n",
    "# print(remove_link(tweet[idx]))\n",
    "# print(remove_mention(tweet[idx]))\n",
    "# print(preprocess(tweet[idx]))\n"
   ]
  },
  {
   "cell_type": "code",
   "execution_count": 5,
   "metadata": {},
   "outputs": [
    {
     "data": {
      "text/plain": [
       "0       บ้านเมือง|เดือดร้อน|วุ่นวาย|ขนาด|นี้|ไม่|ให้กำ...\n",
       "1       เห็นด้วย|คะ|ดีมาก|เวลา|บ้านเมือง|เดือดร้อน|ต้อ...\n",
       "2                           พวก|จาบจ้วง|สถาบัน|ก็|เช่นกัน\n",
       "3             “|สุดา|รัตน์|ไม่เห็นด้วย|จาบจ้วง|สถาบัน|via\n",
       "4       ป้า|หน่อย|ออกมา|ประกาศ|เพื่อ|ไทย|ไม่|สนับสนุน|...\n",
       "                              ...                        \n",
       "5197    เล่า|จริงๆ|ครับ|เล่า|แบบ|ไร้|หลักฐาน|รองรับ|ด้...\n",
       "5198    fy|ผม|ไม่ได้|รัก|ร.|10|ครับ|แต่|ก็|ยัง|ไม่ได้|...\n",
       "5199    ตอนนี้|ผม|ก็|ไม่ได้|ศรัทธา|ราชวงศ์|นะ|คือ|ไม่ไ...\n",
       "5200    บางที|ผม|ก็|สงสาร|ร.|10|นะ|โฆษณา|ผลงาน|ก็|โดน|...\n",
       "5201    ชอบ|บท|สัมภาษณ์|ของ|ร.|10|เมื่อ|ครั้ง|ทรง|เป็น...\n",
       "Name: tweet, Length: 5202, dtype: object"
      ]
     },
     "execution_count": 5,
     "metadata": {},
     "output_type": "execute_result"
    }
   ],
   "source": [
    "from pythainlp import word_tokenize\n",
    "from tqdm import tqdm_notebook\n",
    "from pythainlp.ulmfit import process_thai\n",
    "\n",
    "# remove mention, links, and punctuations before processing\n",
    "tweet = tweet.map(lambda x: preprocess(x))\n",
    "# process tweet as default of thaipynlp\n",
    "tweet = tweet.map(lambda x: \"|\".join(process_thai(x))) # processed tweets\n",
    "wc = tweet.map(lambda x: len(x.split(\"|\"))) # word counts\n",
    "uwc = tweet.map(lambda x: len(set(x.split(\"|\")))) # unique word counts\n",
    "tweet"
   ]
  },
  {
   "cell_type": "markdown",
   "metadata": {},
   "source": [
    "# modeling"
   ]
  },
  {
   "cell_type": "code",
   "execution_count": 8,
   "metadata": {},
   "outputs": [
    {
     "data": {
      "text/plain": [
       "((4161,), (1041,), (4161,), (1041,))"
      ]
     },
     "execution_count": 8,
     "metadata": {},
     "output_type": "execute_result"
    }
   ],
   "source": [
    "from sklearn.model_selection import train_test_split\n",
    "X_train, X_valid, y_train, y_valid = train_test_split(tweet, label, test_size=0.2, random_state=1412)\n",
    "X_train.shape, X_valid.shape, y_train.shape, y_valid.shape"
   ]
  },
  {
   "cell_type": "code",
   "execution_count": 10,
   "metadata": {},
   "outputs": [
    {
     "data": {
      "text/plain": [
       "(0.9151646238884883, 0.930835734870317)"
      ]
     },
     "execution_count": 10,
     "metadata": {},
     "output_type": "execute_result"
    }
   ],
   "source": [
    "y_train.mean(), y_valid.mean()"
   ]
  },
  {
   "cell_type": "markdown",
   "metadata": {},
   "source": [
    "## Logistic regression"
   ]
  },
  {
   "cell_type": "code",
   "execution_count": 13,
   "metadata": {},
   "outputs": [
    {
     "data": {
      "text/plain": [
       "((4161, 2364), (1041, 2364))"
      ]
     },
     "execution_count": 13,
     "metadata": {},
     "output_type": "execute_result"
    }
   ],
   "source": [
    "from sklearn.feature_extraction.text import TfidfVectorizer\n",
    "from sklearn.linear_model import LogisticRegression\n",
    "\n",
    "tfidf = TfidfVectorizer(tokenizer=process_thai, ngram_range=(1,2), min_df=20, sublinear_tf=True)\n",
    "tfidf_fit = tfidf.fit(X_train)\n",
    "text_train = tfidf_fit.transform(X_train)\n",
    "text_valid = tfidf_fit.transform(X_valid)\n",
    "text_train.shape, text_valid.shape"
   ]
  },
  {
   "cell_type": "code",
   "execution_count": 17,
   "metadata": {},
   "outputs": [
    {
     "data": {
      "text/plain": [
       "0.9337175792507204"
      ]
     },
     "execution_count": 17,
     "metadata": {},
     "output_type": "execute_result"
    }
   ],
   "source": [
    "#fit logistic regression models\n",
    "model = LogisticRegression(C=2., penalty=\"l2\", solver=\"liblinear\", dual=False, multi_class=\"ovr\")\n",
    "model.fit(text_train.toarray(),y_train)\n",
    "preds = model.predict(text_valid.toarray())\n",
    "score = model.score(text_valid.toarray(),y_valid)\n",
    "score"
   ]
  },
  {
   "cell_type": "markdown",
   "metadata": {},
   "source": [
    "# Metrics"
   ]
  },
  {
   "cell_type": "code",
   "execution_count": 23,
   "metadata": {},
   "outputs": [
    {
     "name": "stdout",
     "output_type": "stream",
     "text": [
      "0.9337175792507204\n"
     ]
    },
    {
     "data": {
      "image/png": "[encoded data removed]",
      "text/plain": [
       "<Figure size 432x288 with 2 Axes>"
      ]
     },
     "metadata": {
      "needs_background": "light"
     },
     "output_type": "display_data"
    }
   ],
   "source": [
    "from sklearn.metrics import confusion_matrix\n",
    "import seaborn as sns\n",
    "\n",
    "\n",
    "conf_mat = confusion_matrix(y_valid, preds)\n",
    "print(score)\n",
    "sns.heatmap(conf_mat, annot=True, fmt=\"d\",\n",
    "            xticklabels=model.classes_, yticklabels=model.classes_)\n",
    "plt.ylabel(\"Actual\")\n",
    "plt.xlabel(\"Predicted\")\n",
    "plt.show()"
   ]
  },
  {
   "cell_type": "markdown",
   "metadata": {},
   "source": [
    "# ULMFit"
   ]
  },
  {
   "cell_type": "markdown",
   "metadata": {},
   "source": [
    "ongoing"
   ]
  },
  {
   "cell_type": "code",
   "execution_count": 27,
   "metadata": {},
   "outputs": [],
   "source": [
    "from fastai.text import *\n",
    "# from fastai.callbacks import CSVLogger, SaveModelCallback\n",
    "from pythainlp.ulmfit import *"
   ]
  },
  {
   "cell_type": "code",
   "execution_count": 28,
   "metadata": {},
   "outputs": [
    {
     "ename": "NameError",
     "evalue": "name 'Tokenizer' is not defined",
     "output_type": "error",
     "traceback": [
      "\u001b[0;31m---------------------------------------------------------------------------\u001b[0m",
      "\u001b[0;31mNameError\u001b[0m                                 Traceback (most recent call last)",
      "\u001b[0;32m<ipython-input-28-967aee4af084>\u001b[0m in \u001b[0;36m<module>\u001b[0;34m\u001b[0m\n\u001b[0;32m----> 1\u001b[0;31m \u001b[0mtt\u001b[0m \u001b[0;34m=\u001b[0m \u001b[0mTokenizer\u001b[0m\u001b[0;34m(\u001b[0m\u001b[0mtok_func\u001b[0m\u001b[0;34m=\u001b[0m\u001b[0mThaiTokenizer\u001b[0m\u001b[0;34m,\u001b[0m \u001b[0mlang\u001b[0m\u001b[0;34m=\u001b[0m\u001b[0;34m\"th\"\u001b[0m\u001b[0;34m,\u001b[0m \u001b[0mpre_rules\u001b[0m\u001b[0;34m=\u001b[0m\u001b[0mpre_rules_th\u001b[0m\u001b[0;34m,\u001b[0m \u001b[0mpost_rules\u001b[0m\u001b[0;34m=\u001b[0m\u001b[0mpost_rules_th\u001b[0m\u001b[0;34m)\u001b[0m\u001b[0;34m\u001b[0m\u001b[0;34m\u001b[0m\u001b[0m\n\u001b[0m\u001b[1;32m      2\u001b[0m processor = [TokenizeProcessor(tokenizer=tt, chunksize=10000, mark_fields=False),\n\u001b[1;32m      3\u001b[0m             NumericalizeProcessor(vocab=None, max_vocab=60000, min_freq=2)]\n",
      "\u001b[0;31mNameError\u001b[0m: name 'Tokenizer' is not defined"
     ]
    }
   ],
   "source": [
    "tt = Tokenizer(tok_func=ThaiTokenizer, lang=\"th\", pre_rules=pre_rules_th, post_rules=post_rules_th)\n",
    "processor = [TokenizeProcessor(tokenizer=tt, chunksize=10000, mark_fields=False),\n",
    "            NumericalizeProcessor(vocab=None, max_vocab=60000, min_freq=2)]"
   ]
  },
  {
   "cell_type": "code",
   "execution_count": null,
   "metadata": {},
   "outputs": [],
   "source": []
  },
  {
   "cell_type": "code",
   "execution_count": null,
   "metadata": {},
   "outputs": [],
   "source": []
  },
  {
   "cell_type": "code",
   "execution_count": null,
   "metadata": {},
   "outputs": [],
   "source": []
  },
  {
   "cell_type": "code",
   "execution_count": null,
   "metadata": {},
   "outputs": [],
   "source": []
  },
  {
   "cell_type": "code",
   "execution_count": null,
   "metadata": {},
   "outputs": [],
   "source": []
  },
  {
   "cell_type": "code",
   "execution_count": null,
   "metadata": {},
   "outputs": [],
   "source": []
  },
  {
   "cell_type": "markdown",
   "metadata": {},
   "source": [
    "# BERT attempt -> not yet worked"
   ]
  },
  {
   "cell_type": "code",
   "execution_count": null,
   "metadata": {},
   "outputs": [],
   "source": [
    "import tensorflow as tf\n",
    "from tensorflow.keras.layers import Dense, Input\n",
    "from tensorflow.keras.optimizers import Adam\n",
    "from tensorflow.keras.models import Model\n",
    "from tensorflow.keras.callbacks import ModelCheckpoint\n",
    "\n",
    "import transformers\n",
    "from transformers import TFAutoModel, AutoTokenizer\n",
    "from tqdm.notebook import tqdm\n",
    "from tokenizers import Tokenizer, models, pre_tokenizers, decoders, processors\n",
    "\n",
    "print('Using Tensorflow version:', tf.__version__)"
   ]
  },
  {
   "cell_type": "code",
   "execution_count": null,
   "metadata": {},
   "outputs": [],
   "source": [
    "def regular_encode(texts, tokenizer, maxlen=512):\n",
    "    enc_di = tokenizer.batch_encode_plus(\n",
    "             texts, \n",
    "             return_attention_masks=False, \n",
    "             return_token_type_ids=False,\n",
    "             pad_to_max_length=True,\n",
    "             max_length=maxlen)\n",
    "    \n",
    "    return np.array(enc_di['input_ids'])"
   ]
  },
  {
   "cell_type": "code",
   "execution_count": null,
   "metadata": {},
   "outputs": [],
   "source": [
    "def build_model(transformer, max_len=512):\n",
    "    \n",
    "    input_word_ids = Input(shape=(max_len,), dtype=tf.int32, name=\"input_word_ids\")\n",
    "    sequence_output = transformer(input_word_ids)[0]\n",
    "    cls_token = sequence_output[:, 0, :]\n",
    "    out = Dense(5, activation='softmax')(cls_token) # 5 ratings to predict\n",
    "    \n",
    "    model = Model(inputs=input_word_ids, outputs=out)\n",
    "    model.compile(Adam(lr=1e-5), loss='categorical_crossentropy', metrics=['accuracy'])\n",
    "    \n",
    "    return model"
   ]
  },
  {
   "cell_type": "code",
   "execution_count": null,
   "metadata": {},
   "outputs": [],
   "source": [
    "# For tf.dataset\n",
    "AUTO = tf.data.experimental.AUTOTUNE\n",
    "\n",
    "# Configuration\n",
    "EPOCHS = 4\n",
    "BATCH_SIZE = 16 \n",
    "MODEL = 'jplu/tf-xlm-roberta-large' # bert-base-multilingual-uncased\n",
    "# MODEL = 'albert-xxlarge-v2' #"
   ]
  },
  {
   "cell_type": "code",
   "execution_count": null,
   "metadata": {},
   "outputs": [],
   "source": [
    "from sklearn.model_selection import train_test_split\n",
    "\n",
    "X_train, X_val, y_train, y_val = train_test_split(tweet,\n",
    "                                                  label,\n",
    "                                                  stratify=label,\n",
    "                                                  test_size=0.2,\n",
    "                                                  random_state=2020)\n",
    "\n",
    "X_train.shape, X_val.shape, y_train.shape, y_val.shape"
   ]
  },
  {
   "cell_type": "code",
   "execution_count": null,
   "metadata": {},
   "outputs": [],
   "source": [
    "# load tokenizer\n",
    "tokenizer = AutoTokenizer.from_pretrained(MODEL)"
   ]
  },
  {
   "cell_type": "code",
   "execution_count": null,
   "metadata": {},
   "outputs": [],
   "source": [
    "MAX_LEN = 192\n",
    "\n",
    "X_train = regular_encode(X_train.values, tokenizer, maxlen=MAX_LEN)\n",
    "X_val = regular_encode(X_val.values, tokenizer, maxlen=MAX_LEN)\n",
    "# X_test = regular_encode(test_df['review'].values, word_tokenizer, maxlen=MAX_LEN)"
   ]
  },
  {
   "cell_type": "code",
   "execution_count": null,
   "metadata": {},
   "outputs": [],
   "source": [
    "train_dataset = (\n",
    "    tf.data.Dataset\n",
    "    .from_tensor_slices((X_train, y_train))\n",
    "    .repeat()\n",
    "    .shuffle(1024)\n",
    "    .batch(BATCH_SIZE)\n",
    "    .prefetch(AUTO)\n",
    ")\n",
    "\n",
    "valid_dataset = (\n",
    "    tf.data.Dataset\n",
    "    .from_tensor_slices((X_val, y_val))\n",
    "    .batch(BATCH_SIZE)\n",
    "    .cache()\n",
    "    .prefetch(AUTO)\n",
    ")\n",
    "\n",
    "test_dataset = (\n",
    "    tf.data.Dataset\n",
    "    .from_tensor_slices(X_test)\n",
    "    .batch(BATCH_SIZE)\n",
    ")"
   ]
  },
  {
   "cell_type": "code",
   "execution_count": null,
   "metadata": {},
   "outputs": [],
   "source": []
  }
 ],
 "metadata": {
  "kernelspec": {
   "display_name": "Python 3",
   "language": "python",
   "name": "python3"
  },
  "language_info": {
   "codemirror_mode": {
    "name": "ipython",
    "version": 3
   },
   "file_extension": ".py",
   "mimetype": "text/x-python",
   "name": "python",
   "nbconvert_exporter": "python",
   "pygments_lexer": "ipython3",
   "version": "3.8.5"
  }
 },
 "nbformat": 4,
 "nbformat_minor": 4
}
